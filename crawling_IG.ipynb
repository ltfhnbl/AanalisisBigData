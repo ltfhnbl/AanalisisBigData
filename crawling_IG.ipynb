{
  "nbformat": 4,
  "nbformat_minor": 0,
  "metadata": {
    "colab": {
      "provenance": [],
      "authorship_tag": "ABX9TyOhdfoqebqRuhOmpIPVzIux",
      "include_colab_link": true
    },
    "kernelspec": {
      "name": "python3",
      "display_name": "Python 3"
    },
    "language_info": {
      "name": "python"
    }
  },
  "cells": [
    {
      "cell_type": "markdown",
      "metadata": {
        "id": "view-in-github",
        "colab_type": "text"
      },
      "source": [
        "<a href=\"https://colab.research.google.com/github/ltfhnbl/AanalisisBigData/blob/main/crawling_IG.ipynb\" target=\"_parent\"><img src=\"https://colab.research.google.com/assets/colab-badge.svg\" alt=\"Open In Colab\"/></a>"
      ]
    },
    {
      "cell_type": "code",
      "execution_count": 1,
      "metadata": {
        "id": "H-08K7QTfpoh",
        "colab": {
          "base_uri": "https://localhost:8080/"
        },
        "outputId": "b35f4639-2b77-4ffd-cd34-d6d2ee41ab70"
      },
      "outputs": [
        {
          "output_type": "stream",
          "name": "stdout",
          "text": [
            "Requirement already satisfied: jsonpickle in /usr/local/lib/python3.10/dist-packages (3.0.2)\n",
            "Requirement already satisfied: tweepy in /usr/local/lib/python3.10/dist-packages (4.13.0)\n",
            "Requirement already satisfied: oauthlib<4,>=3.2.0 in /usr/local/lib/python3.10/dist-packages (from tweepy) (3.2.2)\n",
            "Requirement already satisfied: requests<3,>=2.27.0 in /usr/local/lib/python3.10/dist-packages (from tweepy) (2.31.0)\n",
            "Requirement already satisfied: requests-oauthlib<2,>=1.2.0 in /usr/local/lib/python3.10/dist-packages (from tweepy) (1.3.1)\n",
            "Requirement already satisfied: charset-normalizer<4,>=2 in /usr/local/lib/python3.10/dist-packages (from requests<3,>=2.27.0->tweepy) (3.3.0)\n",
            "Requirement already satisfied: idna<4,>=2.5 in /usr/local/lib/python3.10/dist-packages (from requests<3,>=2.27.0->tweepy) (3.4)\n",
            "Requirement already satisfied: urllib3<3,>=1.21.1 in /usr/local/lib/python3.10/dist-packages (from requests<3,>=2.27.0->tweepy) (2.0.7)\n",
            "Requirement already satisfied: certifi>=2017.4.17 in /usr/local/lib/python3.10/dist-packages (from requests<3,>=2.27.0->tweepy) (2023.7.22)\n",
            "Collecting instaloader\n",
            "  Downloading instaloader-4.10.1.tar.gz (62 kB)\n",
            "\u001b[2K     \u001b[90m━━━━━━━━━━━━━━━━━━━━━━━━━━━━━━━━━━━━━━━━\u001b[0m \u001b[32m62.3/62.3 kB\u001b[0m \u001b[31m1.4 MB/s\u001b[0m eta \u001b[36m0:00:00\u001b[0m\n",
            "\u001b[?25h  Preparing metadata (setup.py) ... \u001b[?25l\u001b[?25hdone\n",
            "Requirement already satisfied: requests>=2.4 in /usr/local/lib/python3.10/dist-packages (from instaloader) (2.31.0)\n",
            "Requirement already satisfied: charset-normalizer<4,>=2 in /usr/local/lib/python3.10/dist-packages (from requests>=2.4->instaloader) (3.3.0)\n",
            "Requirement already satisfied: idna<4,>=2.5 in /usr/local/lib/python3.10/dist-packages (from requests>=2.4->instaloader) (3.4)\n",
            "Requirement already satisfied: urllib3<3,>=1.21.1 in /usr/local/lib/python3.10/dist-packages (from requests>=2.4->instaloader) (2.0.7)\n",
            "Requirement already satisfied: certifi>=2017.4.17 in /usr/local/lib/python3.10/dist-packages (from requests>=2.4->instaloader) (2023.7.22)\n",
            "Building wheels for collected packages: instaloader\n",
            "  Building wheel for instaloader (setup.py) ... \u001b[?25l\u001b[?25hdone\n",
            "  Created wheel for instaloader: filename=instaloader-4.10.1-py3-none-any.whl size=64178 sha256=18d1ae9a9afea83f03573dde095488261d98cc6c591d1beed8951a91c7e1b128\n",
            "  Stored in directory: /root/.cache/pip/wheels/05/79/5e/5691467fa29f79120dd9bd2c9ded58de5e6ab08f9623ebfcac\n",
            "Successfully built instaloader\n",
            "Installing collected packages: instaloader\n",
            "Successfully installed instaloader-4.10.1\n"
          ]
        }
      ],
      "source": [
        "!pip install jsonpickle\n",
        "!pip install tweepy\n",
        "!pip install instaloader"
      ]
    },
    {
      "cell_type": "code",
      "source": [
        "import instaloader\n",
        "profile_name=input(\"Username : \")\n",
        "print(\"Ungah Media ........\")\n",
        "instaloader.Instaloader().download_profile(profile_name,profile_pic_only=False)\n",
        "print(\"Download Berhasil\")"
      ],
      "metadata": {
        "colab": {
          "base_uri": "https://localhost:8080/",
          "height": 1000
        },
        "id": "kbGF5Y9Q0m-W",
        "outputId": "09e0297b-9c22-411b-89af-eb3771a11247"
      },
      "execution_count": 2,
      "outputs": [
        {
          "output_type": "stream",
          "name": "stdout",
          "text": [
            "Username : beasiswaiibdarmajaya\n",
            "Ungah Media ........\n",
            "Stored ID 2266733523 for profile beasiswaiibdarmajaya.\n",
            "beasiswaiibdarmajaya/2017-01-22_14-55-03_UTC_profile_pic.jpg \n",
            "Retrieving posts from profile beasiswaiibdarmajaya.\n",
            "[  1/194] beasiswaiibdarmajaya/2023-08-09_09-49-15_UTC_1.jpg beasiswaiibdarmajaya/2023-08-09_09-49-15_UTC_2.jpg beasiswaiibdarmajaya/2023-08-09_09-49-15_UTC_3.jpg beasiswaiibdarmajaya/2023-08-09_09-49-15_UTC_4.jpg beasiswaiibdarmajaya/2023-08-09_09-49-15_UTC_5.jpg beasiswaiibdarmajaya/2023-08-09_09-49-15_UTC_6.jpg beasiswaiibdarmajaya/2023-08-09_09-49-15_UTC_7.jpg beasiswaiibdarmajaya/2023-08-09_09-49-15_UTC_8.jpg beasiswaiibdarmajaya/2023-08-09_09-49-15_UTC_9.jpg beasiswaiibdarmajaya/2023-08-09_09-49-15_UTC_10.jpg [Selamat kepada peserta yang l…] json \n",
            "[  2/194] beasiswaiibdarmajaya/2023-08-09_09-45-40_UTC_1.jpg beasiswaiibdarmajaya/2023-08-09_09-45-40_UTC_2.jpg beasiswaiibdarmajaya/2023-08-09_09-45-40_UTC_3.jpg beasiswaiibdarmajaya/2023-08-09_09-45-40_UTC_4.jpg beasiswaiibdarmajaya/2023-08-09_09-45-40_UTC_5.jpg beasiswaiibdarmajaya/2023-08-09_09-45-40_UTC_6.jpg beasiswaiibdarmajaya/2023-08-09_09-45-40_UTC_7.jpg beasiswaiibdarmajaya/2023-08-09_09-45-40_UTC_8.jpg beasiswaiibdarmajaya/2023-08-09_09-45-40_UTC_9.jpg beasiswaiibdarmajaya/2023-08-09_09-45-40_UTC_10.jpg [Selamat kepada peserta yang l…] json \n",
            "[  3/194] beasiswaiibdarmajaya/2023-08-09_09-40-36_UTC_1.jpg beasiswaiibdarmajaya/2023-08-09_09-40-36_UTC_2.jpg beasiswaiibdarmajaya/2023-08-09_09-40-36_UTC_3.jpg beasiswaiibdarmajaya/2023-08-09_09-40-36_UTC_4.jpg beasiswaiibdarmajaya/2023-08-09_09-40-36_UTC_5.jpg beasiswaiibdarmajaya/2023-08-09_09-40-36_UTC_6.jpg beasiswaiibdarmajaya/2023-08-09_09-40-36_UTC_7.jpg beasiswaiibdarmajaya/2023-08-09_09-40-36_UTC_8.jpg beasiswaiibdarmajaya/2023-08-09_09-40-36_UTC_9.jpg beasiswaiibdarmajaya/2023-08-09_09-40-36_UTC_10.jpg [Selamat kepada peserta yang l…] json \n",
            "[  4/194] beasiswaiibdarmajaya/2023-07-10_04-10-46_UTC_1.jpg beasiswaiibdarmajaya/2023-07-10_04-10-46_UTC_2.jpg [Hay guys pengumuman  seleksi …] json \n",
            "[  5/194] beasiswaiibdarmajaya/2023-07-10_04-09-33_UTC_1.jpg beasiswaiibdarmajaya/2023-07-10_04-09-33_UTC_2.jpg [Hay guys pengumuman  seleksi …] json \n",
            "[  6/194] beasiswaiibdarmajaya/2023-07-07_06-47-11_UTC_1.jpg beasiswaiibdarmajaya/2023-07-07_06-47-11_UTC_2.jpg [Hay guys  Pengumuman hasil se…] json \n",
            "[  7/194] beasiswaiibdarmajaya/2023-06-06_09-08-41_UTC_1.jpg beasiswaiibdarmajaya/2023-06-06_09-08-41_UTC_2.jpg [PENDAFTARAN BEASISWA BCA FINA…] json \n",
            "[  8/194] beasiswaiibdarmajaya/2023-03-07_02-17-38_UTC_1.jpg beasiswaiibdarmajaya/2023-03-07_02-17-38_UTC_2.jpg [Halo warga lampung dan sekita…] json \n",
            "[  9/194] beasiswaiibdarmajaya/2023-03-07_02-17-20_UTC_1.jpg beasiswaiibdarmajaya/2023-03-07_02-17-20_UTC_2.jpg [Halo warga lampung dan sekita…] json \n",
            "[ 10/194] beasiswaiibdarmajaya/2023-03-07_02-11-59_UTC_1.jpg beasiswaiibdarmajaya/2023-03-07_02-11-59_UTC_2.jpg [Halo warga lampung dan sekita…] json \n",
            "[ 11/194] beasiswaiibdarmajaya/2022-08-09_10-46-30_UTC_1.jpg beasiswaiibdarmajaya/2022-08-09_10-46-30_UTC_2.jpg beasiswaiibdarmajaya/2022-08-09_10-46-30_UTC_3.jpg beasiswaiibdarmajaya/2022-08-09_10-46-30_UTC_4.jpg beasiswaiibdarmajaya/2022-08-09_10-46-30_UTC_5.jpg beasiswaiibdarmajaya/2022-08-09_10-46-30_UTC_6.jpg beasiswaiibdarmajaya/2022-08-09_10-46-30_UTC_7.jpg beasiswaiibdarmajaya/2022-08-09_10-46-30_UTC_8.jpg [Kami Informasikan Berikut Nam…] json \n",
            "[ 12/194] beasiswaiibdarmajaya/2022-08-09_10-41-48_UTC_1.jpg beasiswaiibdarmajaya/2022-08-09_10-41-48_UTC_2.jpg beasiswaiibdarmajaya/2022-08-09_10-41-48_UTC_3.jpg beasiswaiibdarmajaya/2022-08-09_10-41-48_UTC_4.jpg beasiswaiibdarmajaya/2022-08-09_10-41-48_UTC_5.jpg beasiswaiibdarmajaya/2022-08-09_10-41-48_UTC_6.jpg beasiswaiibdarmajaya/2022-08-09_10-41-48_UTC_7.jpg beasiswaiibdarmajaya/2022-08-09_10-41-48_UTC_8.jpg [Kami Informasikan Berikut Nam…] json \n",
            "[ 13/194] beasiswaiibdarmajaya/2022-08-09_10-32-49_UTC_1.jpg beasiswaiibdarmajaya/2022-08-09_10-32-49_UTC_2.jpg beasiswaiibdarmajaya/2022-08-09_10-32-49_UTC_3.jpg beasiswaiibdarmajaya/2022-08-09_10-32-49_UTC_4.jpg beasiswaiibdarmajaya/2022-08-09_10-32-49_UTC_5.jpg beasiswaiibdarmajaya/2022-08-09_10-32-49_UTC_6.jpg beasiswaiibdarmajaya/2022-08-09_10-32-49_UTC_7.jpg beasiswaiibdarmajaya/2022-08-09_10-32-49_UTC_8.jpg [Kami Informasikan Berikut Nam…] json \n",
            "[ 14/194] beasiswaiibdarmajaya/2022-07-05_08-44-46_UTC_1.jpg beasiswaiibdarmajaya/2022-07-05_08-44-46_UTC_2.jpg beasiswaiibdarmajaya/2022-07-05_08-44-46_UTC_3.jpg beasiswaiibdarmajaya/2022-07-05_08-44-46_UTC_4.jpg beasiswaiibdarmajaya/2022-07-05_08-44-46_UTC_5.jpg beasiswaiibdarmajaya/2022-07-05_08-44-46_UTC_6.jpg beasiswaiibdarmajaya/2022-07-05_08-44-46_UTC_7.jpg [Info Penting!!   Berikut nama…] json \n",
            "[ 15/194] beasiswaiibdarmajaya/2022-07-05_07-53-56_UTC_1.jpg beasiswaiibdarmajaya/2022-07-05_07-53-56_UTC_2.jpg beasiswaiibdarmajaya/2022-07-05_07-53-56_UTC_3.jpg beasiswaiibdarmajaya/2022-07-05_07-53-56_UTC_4.jpg beasiswaiibdarmajaya/2022-07-05_07-53-56_UTC_5.jpg beasiswaiibdarmajaya/2022-07-05_07-53-56_UTC_6.jpg beasiswaiibdarmajaya/2022-07-05_07-53-56_UTC_7.jpg beasiswaiibdarmajaya/2022-07-05_07-53-56_UTC_8.jpg [Info Penting!!   Berikut nama…] json \n",
            "[ 16/194] beasiswaiibdarmajaya/2022-07-05_07-44-21_UTC_1.jpg beasiswaiibdarmajaya/2022-07-05_07-44-21_UTC_2.jpg beasiswaiibdarmajaya/2022-07-05_07-44-21_UTC_3.jpg beasiswaiibdarmajaya/2022-07-05_07-44-21_UTC_4.jpg beasiswaiibdarmajaya/2022-07-05_07-44-21_UTC_5.jpg beasiswaiibdarmajaya/2022-07-05_07-44-21_UTC_6.jpg beasiswaiibdarmajaya/2022-07-05_07-44-21_UTC_7.jpg [Info Penting!!   Berikut nama…] json \n",
            "[ 17/194] beasiswaiibdarmajaya/2022-06-14_08-42-18_UTC_1.jpg beasiswaiibdarmajaya/2022-06-14_08-42-18_UTC_2.jpg beasiswaiibdarmajaya/2022-06-14_08-42-18_UTC_3.jpg beasiswaiibdarmajaya/2022-06-14_08-42-18_UTC_4.jpg beasiswaiibdarmajaya/2022-06-14_08-42-18_UTC_5.jpg beasiswaiibdarmajaya/2022-06-14_08-42-18_UTC_6.jpg beasiswaiibdarmajaya/2022-06-14_08-42-18_UTC_7.jpg beasiswaiibdarmajaya/2022-06-14_08-42-18_UTC_8.jpg [Info Penting!!   Berikut nama…] json \n",
            "[ 18/194] beasiswaiibdarmajaya/2022-06-14_08-26-15_UTC_1.jpg beasiswaiibdarmajaya/2022-06-14_08-26-15_UTC_2.jpg beasiswaiibdarmajaya/2022-06-14_08-26-15_UTC_3.jpg beasiswaiibdarmajaya/2022-06-14_08-26-15_UTC_4.jpg beasiswaiibdarmajaya/2022-06-14_08-26-15_UTC_5.jpg beasiswaiibdarmajaya/2022-06-14_08-26-15_UTC_6.jpg [Info Penting!!  Berikut nama-…] json \n",
            "[ 19/194] beasiswaiibdarmajaya/2022-06-14_08-11-49_UTC_1.jpg beasiswaiibdarmajaya/2022-06-14_08-11-49_UTC_2.jpg beasiswaiibdarmajaya/2022-06-14_08-11-49_UTC_3.jpg beasiswaiibdarmajaya/2022-06-14_08-11-49_UTC_4.jpg beasiswaiibdarmajaya/2022-06-14_08-11-49_UTC_5.jpg beasiswaiibdarmajaya/2022-06-14_08-11-49_UTC_6.jpg beasiswaiibdarmajaya/2022-06-14_08-11-49_UTC_7.jpg beasiswaiibdarmajaya/2022-06-14_08-11-49_UTC_8.jpg [Info penting!!  Berikut nama-…] json \n",
            "[ 20/194] beasiswaiibdarmajaya/2022-06-09_04-52-24_UTC_1.jpg beasiswaiibdarmajaya/2022-06-09_04-52-24_UTC_2.jpg [Salam Inspirasi  Gramedia BOO…] json \n",
            "[ 21/194] beasiswaiibdarmajaya/2022-06-06_10-31-24_UTC_1.jpg beasiswaiibdarmajaya/2022-06-06_10-31-24_UTC_2.jpg [Yuk gabung dalam pemilihan Ma…] json \n",
            "[ 22/194] beasiswaiibdarmajaya/2022-04-26_05-05-44_UTC_1.jpg beasiswaiibdarmajaya/2022-04-26_05-05-44_UTC_2.jpg [Hallo Mahasiswa Darmajaya, yu…] json \n",
            "[ 23/194] beasiswaiibdarmajaya/2022-03-10_04-42-59_UTC.jpg beasiswaiibdarmajaya/2022-03-10_04-42-59_UTC.mp4 json \n",
            "[ 24/194] beasiswaiibdarmajaya/2022-03-10_04-12-25_UTC_1.jpg beasiswaiibdarmajaya/2022-03-10_04-12-25_UTC_2.jpg beasiswaiibdarmajaya/2022-03-10_04-12-25_UTC_3.jpg [Penerimaan mahasiswa baru jal…] json \n",
            "[ 25/194] beasiswaiibdarmajaya/2021-09-20_12-57-50_UTC_1.jpg beasiswaiibdarmajaya/2021-09-20_12-57-50_UTC_2.jpg beasiswaiibdarmajaya/2021-09-20_12-57-50_UTC_3.jpg [Berikut daftar nama penerima …] json \n",
            "[ 26/194] beasiswaiibdarmajaya/2021-09-01_07-25-37_UTC.jpg [Hello Gen Dj.. Info yang kali…] json \n",
            "[ 27/194] beasiswaiibdarmajaya/2021-07-27_09-56-20_UTC_1.jpg beasiswaiibdarmajaya/2021-07-27_09-56-20_UTC_2.jpg [Berikut Nama-Nama Mahasiswa P…] json \n",
            "[ 28/194] beasiswaiibdarmajaya/2021-07-24_07-55-17_UTC_1.jpg beasiswaiibdarmajaya/2021-07-24_07-55-17_UTC_2.jpg [Berikut Nama-Nama Mahasiswa B…] json \n",
            "[ 29/194] beasiswaiibdarmajaya/2021-07-23_13-28-09_UTC.jpg [Hayo siapa yg kemarin terlamb…] json \n",
            "[ 30/194] beasiswaiibdarmajaya/2021-07-06_10-20-43_UTC_1.jpg beasiswaiibdarmajaya/2021-07-06_10-20-43_UTC_2.jpg beasiswaiibdarmajaya/2021-07-06_10-20-43_UTC_3.jpg beasiswaiibdarmajaya/2021-07-06_10-20-43_UTC_4.jpg beasiswaiibdarmajaya/2021-07-06_10-20-43_UTC_5.jpg beasiswaiibdarmajaya/2021-07-06_10-20-43_UTC_6.jpg [Seleksi Wawancara Beasiswa Ya…] json \n",
            "[ 31/194] beasiswaiibdarmajaya/2021-07-06_10-14-01_UTC_1.jpg beasiswaiibdarmajaya/2021-07-06_10-14-01_UTC_2.jpg beasiswaiibdarmajaya/2021-07-06_10-14-01_UTC_3.jpg beasiswaiibdarmajaya/2021-07-06_10-14-01_UTC_4.jpg beasiswaiibdarmajaya/2021-07-06_10-14-01_UTC_5.jpg beasiswaiibdarmajaya/2021-07-06_10-14-01_UTC_6.jpg beasiswaiibdarmajaya/2021-07-06_10-14-01_UTC_7.jpg [Seleksi Wawancara Beasiswa KI…] json \n",
            "[ 32/194] beasiswaiibdarmajaya/2021-05-12_13-35-03_UTC.jpg beasiswaiibdarmajaya/2021-05-12_13-35-03_UTC.mp4 json \n",
            "[ 33/194] beasiswaiibdarmajaya/2021-04-30_03-14-08_UTC.jpg beasiswaiibdarmajaya/2021-04-30_03-14-08_UTC.mp4 json \n",
            "[ 34/194] beasiswaiibdarmajaya/2021-04-23_01-14-35_UTC.jpg json \n",
            "[ 35/194] beasiswaiibdarmajaya/2021-04-22_07-31-13_UTC.jpg json \n",
            "[ 36/194] beasiswaiibdarmajaya/2021-03-29_23-26-42_UTC_1.jpg beasiswaiibdarmajaya/2021-03-29_23-26-42_UTC_2.jpg beasiswaiibdarmajaya/2021-03-29_23-26-42_UTC_3.jpg [Pemilihan Mahasiswa Berpresta…] json \n",
            "[ 37/194] beasiswaiibdarmajaya/2021-03-04_07-05-11_UTC_1.jpg beasiswaiibdarmajaya/2021-03-04_07-05-11_UTC_2.jpg beasiswaiibdarmajaya/2021-03-04_07-05-11_UTC_3.jpg beasiswaiibdarmajaya/2021-03-04_07-05-11_UTC_4.jpg beasiswaiibdarmajaya/2021-03-04_07-05-11_UTC_5.jpg [Bantuan Kuota Data Internet t…] json \n",
            "[ 38/194] beasiswaiibdarmajaya/2021-02-19_09-47-17_UTC_1.jpg beasiswaiibdarmajaya/2021-02-19_09-47-17_UTC_2.jpg beasiswaiibdarmajaya/2021-02-19_09-47-17_UTC_3.jpg beasiswaiibdarmajaya/2021-02-19_09-47-17_UTC_4.jpg beasiswaiibdarmajaya/2021-02-19_09-47-17_UTC_5.jpg beasiswaiibdarmajaya/2021-02-19_09-47-17_UTC_6.jpg [Bersamaan dengan akan dilakuk…] json \n",
            "[ 39/194] beasiswaiibdarmajaya/2021-02-09_07-10-35_UTC.jpg [Buat kamu mahasiswa Darmajaya…] json \n",
            "[ 40/194] beasiswaiibdarmajaya/2021-02-04_07-49-17_UTC_1.jpg beasiswaiibdarmajaya/2021-02-04_07-49-17_UTC_2.jpg [Pendaftaran Beasiswa Darmajay…] json \n",
            "[ 41/194] beasiswaiibdarmajaya/2020-09-23_12-11-49_UTC.jpg [Berikut nama-nama mahasiswa p…] json \n",
            "[ 42/194] beasiswaiibdarmajaya/2020-09-04_04-18-01_UTC_1.jpg beasiswaiibdarmajaya/2020-09-04_04-18-01_UTC_2.jpg [Berikut nama-nama mahasiswa p…] json \n",
            "[ 43/194] beasiswaiibdarmajaya/2020-09-03_06-05-20_UTC.jpg [Buat kamu mahasiswa/i aktif I…] json \n",
            "[ 44/194] beasiswaiibdarmajaya/2020-09-01_07-38-33_UTC_1.jpg beasiswaiibdarmajaya/2020-09-01_07-38-33_UTC_2.jpg beasiswaiibdarmajaya/2020-09-01_07-38-33_UTC_3.jpg beasiswaiibdarmajaya/2020-09-01_07-38-33_UTC_4.jpg beasiswaiibdarmajaya/2020-09-01_07-38-33_UTC_5.jpg [Daftar Penerima Beasiswa UKT/…] json \n",
            "[ 45/194] beasiswaiibdarmajaya/2020-08-18_02-50-09_UTC_1.jpg beasiswaiibdarmajaya/2020-08-18_02-50-09_UTC_2.jpg beasiswaiibdarmajaya/2020-08-18_02-50-09_UTC_3.jpg beasiswaiibdarmajaya/2020-08-18_02-50-09_UTC_4.jpg beasiswaiibdarmajaya/2020-08-18_02-50-09_UTC_5.jpg [Bersamaan dengan akan dilakuk…] json \n",
            "[ 46/194] beasiswaiibdarmajaya/2020-08-07_12-22-32_UTC.jpg [Hello Gen DJ apa kabar niih, …] json \n",
            "[ 47/194] beasiswaiibdarmajaya/2020-07-30_02-03-45_UTC_1.jpg beasiswaiibdarmajaya/2020-07-30_02-03-45_UTC_2.jpg beasiswaiibdarmajaya/2020-07-30_02-03-45_UTC_3.jpg beasiswaiibdarmajaya/2020-07-30_02-03-45_UTC_4.jpg beasiswaiibdarmajaya/2020-07-30_02-03-45_UTC_5.jpg [Bersamaan dengan akan dilakuk…] json \n",
            "[ 48/194] beasiswaiibdarmajaya/2020-07-30_01-47-37_UTC_1.jpg beasiswaiibdarmajaya/2020-07-30_01-47-37_UTC_2.jpg beasiswaiibdarmajaya/2020-07-30_01-47-37_UTC_3.jpg beasiswaiibdarmajaya/2020-07-30_01-47-37_UTC_4.jpg beasiswaiibdarmajaya/2020-07-30_01-47-37_UTC_5.jpg beasiswaiibdarmajaya/2020-07-30_01-47-37_UTC_6.jpg beasiswaiibdarmajaya/2020-07-30_01-47-37_UTC_7.jpg [Bersamaan dengan akan dilakuk…] json \n",
            "[ 49/194] beasiswaiibdarmajaya/2020-06-05_08-24-07_UTC.jpg [Selamat hari lahir Darmajaya …] json \n",
            "[ 50/194] beasiswaiibdarmajaya/2020-05-23_11-17-50_UTC.jpg [Pandemi ini memang membatasi …] beasiswaiibdarmajaya/2020-05-23_11-17-50_UTC.mp4 json \n",
            "[ 51/194] beasiswaiibdarmajaya/2020-05-22_05-24-41_UTC.jpg [Masih bingung menentukan perg…] json \n",
            "[ 52/194] beasiswaiibdarmajaya/2020-05-19_11-44-09_UTC.jpg [Reposted from @darmajayathebe…] json \n",
            "[ 53/194] beasiswaiibdarmajaya/2020-05-03_04-43-42_UTC.jpg [Selamat ya atas kelulusan sek…] json \n",
            "[ 54/194] beasiswaiibdarmajaya/2020-04-23_14-38-27_UTC.jpg [Marhaban Ya Ramadhan \"Selamat…] beasiswaiibdarmajaya/2020-04-23_14-38-27_UTC.mp4 json \n",
            "[ 55/194] beasiswaiibdarmajaya/2020-03-20_13-11-52_UTC.jpg json \n",
            "[ 56/194] beasiswaiibdarmajaya/2020-03-09_01-05-08_UTC_1.jpg beasiswaiibdarmajaya/2020-03-09_01-05-08_UTC_2.jpg beasiswaiibdarmajaya/2020-03-09_01-05-08_UTC_3.jpg beasiswaiibdarmajaya/2020-03-09_01-05-08_UTC_4.jpg beasiswaiibdarmajaya/2020-03-09_01-05-08_UTC_5.jpg beasiswaiibdarmajaya/2020-03-09_01-05-08_UTC_6.jpg beasiswaiibdarmajaya/2020-03-09_01-05-08_UTC_7.jpg beasiswaiibdarmajaya/2020-03-09_01-05-08_UTC_8.jpg beasiswaiibdarmajaya/2020-03-09_01-05-08_UTC_9.jpg beasiswaiibdarmajaya/2020-03-09_01-05-08_UTC_10.jpg [Halo generasi emas bangsa adm…] json \n",
            "[ 57/194] beasiswaiibdarmajaya/2020-02-27_01-31-27_UTC_1.jpg beasiswaiibdarmajaya/2020-02-27_01-31-27_UTC_2.jpg beasiswaiibdarmajaya/2020-02-27_01-31-27_UTC_3.jpg beasiswaiibdarmajaya/2020-02-27_01-31-27_UTC_4.jpg json \n",
            "[ 58/194] beasiswaiibdarmajaya/2020-01-21_02-27-49_UTC.jpg [Tabik Pun... Sekedar informas…] json \n",
            "[ 59/194] beasiswaiibdarmajaya/2020-01-16_01-43-29_UTC.jpg [Hello Gen DJ Buat km yg punya…] json \n",
            "[ 60/194] beasiswaiibdarmajaya/2019-10-17_07-15-03_UTC.jpg json \n",
            "[ 61/194] beasiswaiibdarmajaya/2019-09-10_13-32-39_UTC_1.jpg beasiswaiibdarmajaya/2019-09-10_13-32-39_UTC_2.jpg beasiswaiibdarmajaya/2019-09-10_13-32-39_UTC_3.jpg [Tabik pun.. Berikut data pene…] json \n",
            "[ 62/194] beasiswaiibdarmajaya/2019-08-17_05-35-27_UTC.jpg beasiswaiibdarmajaya/2019-08-17_05-35-27_UTC.mp4 json \n",
            "[ 63/194] beasiswaiibdarmajaya/2019-08-17_05-23-24_UTC.jpg beasiswaiibdarmajaya/2019-08-17_05-23-24_UTC.mp4 json \n",
            "[ 64/194] beasiswaiibdarmajaya/2019-08-14_04-50-56_UTC_1.jpg beasiswaiibdarmajaya/2019-08-14_04-50-56_UTC_2.jpg beasiswaiibdarmajaya/2019-08-14_04-50-56_UTC_3.jpg beasiswaiibdarmajaya/2019-08-14_04-50-56_UTC_4.jpg beasiswaiibdarmajaya/2019-08-14_04-50-56_UTC_5.jpg beasiswaiibdarmajaya/2019-08-14_04-50-56_UTC_6.jpg beasiswaiibdarmajaya/2019-08-14_04-50-56_UTC_7.jpg beasiswaiibdarmajaya/2019-08-14_04-50-56_UTC_8.jpg [Buat kalian yang sudah tidak …] json \n",
            "[ 65/194] beasiswaiibdarmajaya/2019-08-04_06-13-12_UTC_1.jpg beasiswaiibdarmajaya/2019-08-04_06-13-12_UTC_2.jpg beasiswaiibdarmajaya/2019-08-04_06-13-12_UTC_3.jpg beasiswaiibdarmajaya/2019-08-04_06-13-12_UTC_4.jpg [Tabik pun., Berikut hasil sel…] json \n",
            "[ 66/194] beasiswaiibdarmajaya/2019-07-25_13-05-20_UTC_1.jpg beasiswaiibdarmajaya/2019-07-25_13-05-20_UTC_2.jpg beasiswaiibdarmajaya/2019-07-25_13-05-20_UTC_3.jpg beasiswaiibdarmajaya/2019-07-25_13-05-20_UTC_4.jpg [Tabik Pun... Berikut adalah h…] json \n",
            "[ 67/194] beasiswaiibdarmajaya/2019-07-02_09-27-59_UTC.jpg [Tabik Pun... Dibuka beasiswa …] json \n",
            "[ 68/194] beasiswaiibdarmajaya/2019-07-02_04-30-50_UTC_1.jpg beasiswaiibdarmajaya/2019-07-02_04-30-50_UTC_2.jpg beasiswaiibdarmajaya/2019-07-02_04-30-50_UTC_3.jpg beasiswaiibdarmajaya/2019-07-02_04-30-50_UTC_4.jpg beasiswaiibdarmajaya/2019-07-02_04-30-50_UTC_5.jpg beasiswaiibdarmajaya/2019-07-02_04-30-50_UTC_6.jpg beasiswaiibdarmajaya/2019-07-02_04-30-50_UTC_7.jpg beasiswaiibdarmajaya/2019-07-02_04-30-50_UTC_8.jpg [Tabik Pun... Seleksi beasiswa…] json \n",
            "[ 69/194] beasiswaiibdarmajaya/2019-05-29_14-41-24_UTC.jpg [Tabik Pun.. Buat kalian yang …] beasiswaiibdarmajaya/2019-05-29_14-41-24_UTC.mp4 json \n",
            "[ 70/194] beasiswaiibdarmajaya/2019-05-28_10-48-24_UTC.jpg [Tabik Pun... Yuuk baut kamu y…] json \n",
            "[ 71/194] beasiswaiibdarmajaya/2019-05-27_08-09-12_UTC.jpg [Tabik Pun. Bagi rekan\" yng in…] beasiswaiibdarmajaya/2019-05-27_08-09-12_UTC.mp4 json \n",
            "[ 72/194] beasiswaiibdarmajaya/2019-02-15_08-24-22_UTC_1.jpg beasiswaiibdarmajaya/2019-02-15_08-24-22_UTC_2.jpg beasiswaiibdarmajaya/2019-02-15_08-24-22_UTC_2.mp4 json \n",
            "[ 73/194] beasiswaiibdarmajaya/2019-02-15_08-21-32_UTC_1.jpg beasiswaiibdarmajaya/2019-02-15_08-21-32_UTC_2.jpg beasiswaiibdarmajaya/2019-02-15_08-21-32_UTC_3.jpg beasiswaiibdarmajaya/2019-02-15_08-21-32_UTC_4.jpg beasiswaiibdarmajaya/2019-02-15_08-21-32_UTC_5.jpg beasiswaiibdarmajaya/2019-02-15_08-21-32_UTC_6.jpg beasiswaiibdarmajaya/2019-02-15_08-21-32_UTC_7.jpg json \n",
            "[ 74/194] beasiswaiibdarmajaya/2019-02-15_08-11-10_UTC_1.jpg beasiswaiibdarmajaya/2019-02-15_08-11-10_UTC_2.jpg beasiswaiibdarmajaya/2019-02-15_08-11-10_UTC_3.jpg beasiswaiibdarmajaya/2019-02-15_08-11-10_UTC_4.jpg beasiswaiibdarmajaya/2019-02-15_08-11-10_UTC_5.jpg json \n",
            "[ 75/194] beasiswaiibdarmajaya/2019-02-14_05-17-34_UTC.jpg [Tabik Pun ... Mahasiswi yang …] json \n",
            "[ 76/194] beasiswaiibdarmajaya/2019-02-14_00-59-58_UTC.jpg [Tabik Pun ... Mahasiswa yang …] json \n",
            "[ 77/194] beasiswaiibdarmajaya/2019-02-01_09-47-48_UTC.jpg [Tabik Pun ... Mahasiswi yang …] json \n",
            "[ 78/194] beasiswaiibdarmajaya/2019-01-21_05-11-39_UTC.jpg [Tabik Pun ... Mahasiswi yang …] json \n",
            "[ 79/194] beasiswaiibdarmajaya/2019-01-18_05-28-55_UTC.jpg [Tabik Pun ... Mahasiswa yang …] json \n",
            "[ 80/194] beasiswaiibdarmajaya/2019-01-18_03-10-43_UTC.jpg [Tabik Pun ... Mahasiswi yang …] json \n",
            "[ 81/194] beasiswaiibdarmajaya/2019-01-17_11-36-13_UTC.jpg [Tabik Pun ... Mahasiswi yang …] json \n",
            "[ 82/194] beasiswaiibdarmajaya/2019-01-17_10-38-23_UTC.jpg [Tabik Pun ... Mahasiswa yang …] json \n",
            "[ 83/194] beasiswaiibdarmajaya/2019-01-17_08-37-19_UTC.jpg [Tabik Pun ... Mahasiswi yang …] json \n",
            "[ 84/194] beasiswaiibdarmajaya/2018-12-28_11-04-25_UTC.jpg [Tabik Pun ... Mahasiswi yang …] json \n",
            "[ 85/194] beasiswaiibdarmajaya/2018-12-27_03-53-21_UTC.jpg [Tabik Pun ... Mahasiswa yang …] json \n",
            "[ 86/194] beasiswaiibdarmajaya/2018-12-26_06-33-13_UTC.jpg [Tabik Pun ... Mahasiswi yang …] json \n",
            "[ 87/194] beasiswaiibdarmajaya/2018-11-09_09-26-58_UTC_1.jpg beasiswaiibdarmajaya/2018-11-09_09-26-58_UTC_2.jpg [Congratulations on your gradu…] json \n",
            "[ 88/194] beasiswaiibdarmajaya/2018-11-09_09-26-25_UTC_1.jpg beasiswaiibdarmajaya/2018-11-09_09-26-25_UTC_2.jpg beasiswaiibdarmajaya/2018-11-09_09-26-25_UTC_3.jpg [Congratulations on your gradu…] json \n",
            "[ 89/194] beasiswaiibdarmajaya/2018-11-09_09-23-53_UTC_1.jpg beasiswaiibdarmajaya/2018-11-09_09-23-53_UTC_2.jpg [Congratulations on your gradu…] json \n",
            "[ 90/194] beasiswaiibdarmajaya/2018-10-10_19-37-53_UTC.jpg [Info ram Kreativitas Mahasisw…] json \n",
            "[ 91/194] beasiswaiibdarmajaya/2018-10-10_19-37-26_UTC_1.jpg beasiswaiibdarmajaya/2018-10-10_19-37-26_UTC_2.jpg beasiswaiibdarmajaya/2018-10-10_19-37-26_UTC_3.jpg beasiswaiibdarmajaya/2018-10-10_19-37-26_UTC_4.jpg beasiswaiibdarmajaya/2018-10-10_19-37-26_UTC_5.jpg beasiswaiibdarmajaya/2018-10-10_19-37-26_UTC_6.jpg beasiswaiibdarmajaya/2018-10-10_19-37-26_UTC_7.jpg beasiswaiibdarmajaya/2018-10-10_19-37-26_UTC_8.jpg beasiswaiibdarmajaya/2018-10-10_19-37-26_UTC_9.jpg beasiswaiibdarmajaya/2018-10-10_19-37-26_UTC_10.jpg [Info ram Kreativitas Mahasisw…] json \n",
            "[ 92/194] beasiswaiibdarmajaya/2018-10-10_19-33-08_UTC.jpg [Info ram Kreativitas Mahasisw…] json \n",
            "[ 93/194] beasiswaiibdarmajaya/2018-10-02_00-57-06_UTC.jpg [Informasi kegiatan Workshop P…] json \n",
            "[ 94/194] beasiswaiibdarmajaya/2018-08-31_13-45-41_UTC_1.jpg beasiswaiibdarmajaya/2018-08-31_13-45-41_UTC_2.jpg beasiswaiibdarmajaya/2018-08-31_13-45-41_UTC_3.jpg [Beasiswa Yatim Piatu & Tidak …] json \n",
            "[ 95/194] beasiswaiibdarmajaya/2018-08-31_13-05-23_UTC_1.jpg beasiswaiibdarmajaya/2018-08-31_13-05-23_UTC_2.jpg [Beasiswa Hafidz Quran 2018 Se…] json \n",
            "[ 96/194] beasiswaiibdarmajaya/2018-08-31_12-15-03_UTC_1.jpg beasiswaiibdarmajaya/2018-08-31_12-15-03_UTC_2.jpg beasiswaiibdarmajaya/2018-08-31_12-15-03_UTC_3.jpg [Beasiswa Berprestasi Non Akad…] json \n",
            "[ 97/194] beasiswaiibdarmajaya/2018-08-31_10-51-27_UTC_1.jpg beasiswaiibdarmajaya/2018-08-31_10-51-27_UTC_2.jpg beasiswaiibdarmajaya/2018-08-31_10-51-27_UTC_3.jpg [Beasiswa Bidikmisi 2018 Selam…] json \n",
            "[ 98/194] beasiswaiibdarmajaya/2018-08-04_15-12-24_UTC_1.jpg beasiswaiibdarmajaya/2018-08-04_15-12-24_UTC_2.jpg beasiswaiibdarmajaya/2018-08-04_15-12-24_UTC_3.jpg beasiswaiibdarmajaya/2018-08-04_15-12-24_UTC_4.jpg beasiswaiibdarmajaya/2018-08-04_15-12-24_UTC_5.jpg beasiswaiibdarmajaya/2018-08-04_15-12-24_UTC_6.jpg [Beasiswa Bidik misi Hari Ke I…] json \n",
            "[ 99/194] beasiswaiibdarmajaya/2018-08-04_15-05-26_UTC_1.jpg beasiswaiibdarmajaya/2018-08-04_15-05-26_UTC_2.jpg beasiswaiibdarmajaya/2018-08-04_15-05-26_UTC_3.jpg beasiswaiibdarmajaya/2018-08-04_15-05-26_UTC_4.jpg beasiswaiibdarmajaya/2018-08-04_15-05-26_UTC_5.jpg beasiswaiibdarmajaya/2018-08-04_15-05-26_UTC_6.jpg [Beasiswa Bidik misi Hari Ke I…] json \n",
            "[100/194] beasiswaiibdarmajaya/2018-08-04_14-07-07_UTC_1.jpg beasiswaiibdarmajaya/2018-08-04_14-07-07_UTC_2.jpg beasiswaiibdarmajaya/2018-08-04_14-07-07_UTC_3.jpg beasiswaiibdarmajaya/2018-08-04_14-07-07_UTC_4.jpg beasiswaiibdarmajaya/2018-08-04_14-07-07_UTC_5.jpg beasiswaiibdarmajaya/2018-08-04_14-07-07_UTC_6.jpg beasiswaiibdarmajaya/2018-08-04_14-07-07_UTC_7.jpg beasiswaiibdarmajaya/2018-08-04_14-07-07_UTC_8.jpg [Beasiswa Bidik Misi Hari ke I…] json \n",
            "[101/194] beasiswaiibdarmajaya/2018-08-04_11-52-48_UTC_1.jpg beasiswaiibdarmajaya/2018-08-04_11-52-48_UTC_2.jpg beasiswaiibdarmajaya/2018-08-04_11-52-48_UTC_3.jpg beasiswaiibdarmajaya/2018-08-04_11-52-48_UTC_4.jpg [Beasiswa Yatim Piatu & Tidak …] json \n",
            "[102/194] beasiswaiibdarmajaya/2018-08-04_09-57-32_UTC_1.jpg beasiswaiibdarmajaya/2018-08-04_09-57-32_UTC_2.jpg beasiswaiibdarmajaya/2018-08-04_09-57-32_UTC_3.jpg [Beasiswa Berprestasi Non Akad…] json \n",
            "[103/194] beasiswaiibdarmajaya/2018-08-04_08-05-05_UTC_1.jpg beasiswaiibdarmajaya/2018-08-04_08-05-05_UTC_2.jpg [Beasiswa Hafidz Quran . Info …] json \n",
            "[104/194] beasiswaiibdarmajaya/2018-07-13_11-17-48_UTC_1.jpg beasiswaiibdarmajaya/2018-07-13_11-17-48_UTC_2.jpg [Info Beasiswa IBI Darmajaya T…] json \n",
            "[105/194] beasiswaiibdarmajaya/2018-07-13_11-17-14_UTC_1.jpg beasiswaiibdarmajaya/2018-07-13_11-17-14_UTC_2.jpg [Info Beasiswa IBI Darmajaya T…] json \n",
            "[106/194] beasiswaiibdarmajaya/2018-07-13_11-15-38_UTC_1.jpg beasiswaiibdarmajaya/2018-07-13_11-15-38_UTC_2.jpg [Info Beasiswa IBI Darmajaya T…] json \n",
            "[107/194] beasiswaiibdarmajaya/2018-07-08_02-54-39_UTC_1.jpg beasiswaiibdarmajaya/2018-07-08_02-54-39_UTC_2.jpg [Info Beasiswa IBI Darmajaya T…] json \n",
            "[108/194] beasiswaiibdarmajaya/2018-07-08_02-53-55_UTC_1.jpg beasiswaiibdarmajaya/2018-07-08_02-53-55_UTC_2.jpg [Info Beasiswa IBI Darmajaya T…] json \n",
            "[109/194] beasiswaiibdarmajaya/2018-07-08_02-53-13_UTC_1.jpg beasiswaiibdarmajaya/2018-07-08_02-53-13_UTC_2.jpg [Info Beasiswa IBI Darmajaya T…] json \n",
            "[110/194] beasiswaiibdarmajaya/2018-07-04_02-10-33_UTC_1.jpg beasiswaiibdarmajaya/2018-07-04_02-10-33_UTC_2.jpg [Info Beasiswa IBI Darmajaya T…] json \n",
            "[111/194] beasiswaiibdarmajaya/2018-07-04_02-09-07_UTC_1.jpg beasiswaiibdarmajaya/2018-07-04_02-09-07_UTC_2.jpg [Info Beasiswa IBI Darmajaya T…] json \n",
            "[112/194] beasiswaiibdarmajaya/2018-07-04_02-07-33_UTC_1.jpg beasiswaiibdarmajaya/2018-07-04_02-07-33_UTC_2.jpg [Info Beasiswa IBI Darmajaya T…] json \n"
          ]
        },
        {
          "output_type": "stream",
          "name": "stderr",
          "text": [
            "JSON Query to graphql/query: HTTP error code 401. [retrying; skip with ^C]\n",
            "JSON Query to graphql/query: HTTP error code 401. [retrying; skip with ^C]\n"
          ]
        },
        {
          "output_type": "error",
          "ename": "ConnectionException",
          "evalue": "ignored",
          "traceback": [
            "\u001b[0;31m---------------------------------------------------------------------------\u001b[0m",
            "\u001b[0;31mConnectionException\u001b[0m                       Traceback (most recent call last)",
            "\u001b[0;32m/usr/local/lib/python3.10/dist-packages/instaloader/instaloadercontext.py\u001b[0m in \u001b[0;36mget_json\u001b[0;34m(self, path, params, host, session, _attempt, response_headers)\u001b[0m\n\u001b[1;32m    404\u001b[0m             \u001b[0;32mif\u001b[0m \u001b[0mresp\u001b[0m\u001b[0;34m.\u001b[0m\u001b[0mstatus_code\u001b[0m \u001b[0;34m!=\u001b[0m \u001b[0;36m200\u001b[0m\u001b[0;34m:\u001b[0m\u001b[0;34m\u001b[0m\u001b[0;34m\u001b[0m\u001b[0m\n\u001b[0;32m--> 405\u001b[0;31m                 \u001b[0;32mraise\u001b[0m \u001b[0mConnectionException\u001b[0m\u001b[0;34m(\u001b[0m\u001b[0;34m\"HTTP error code {}.\"\u001b[0m\u001b[0;34m.\u001b[0m\u001b[0mformat\u001b[0m\u001b[0;34m(\u001b[0m\u001b[0mresp\u001b[0m\u001b[0;34m.\u001b[0m\u001b[0mstatus_code\u001b[0m\u001b[0;34m)\u001b[0m\u001b[0;34m)\u001b[0m\u001b[0;34m\u001b[0m\u001b[0;34m\u001b[0m\u001b[0m\n\u001b[0m\u001b[1;32m    406\u001b[0m             \u001b[0mis_html_query\u001b[0m \u001b[0;34m=\u001b[0m \u001b[0;32mnot\u001b[0m \u001b[0mis_graphql_query\u001b[0m \u001b[0;32mand\u001b[0m \u001b[0;32mnot\u001b[0m \u001b[0;34m\"__a\"\u001b[0m \u001b[0;32min\u001b[0m \u001b[0mparams\u001b[0m \u001b[0;32mand\u001b[0m \u001b[0mhost\u001b[0m \u001b[0;34m==\u001b[0m \u001b[0;34m\"www.instagram.com\"\u001b[0m\u001b[0;34m\u001b[0m\u001b[0;34m\u001b[0m\u001b[0m\n",
            "\u001b[0;31mConnectionException\u001b[0m: HTTP error code 401.",
            "\nDuring handling of the above exception, another exception occurred:\n",
            "\u001b[0;31mConnectionException\u001b[0m                       Traceback (most recent call last)",
            "\u001b[0;32m/usr/local/lib/python3.10/dist-packages/instaloader/instaloadercontext.py\u001b[0m in \u001b[0;36mget_json\u001b[0;34m(self, path, params, host, session, _attempt, response_headers)\u001b[0m\n\u001b[1;32m    404\u001b[0m             \u001b[0;32mif\u001b[0m \u001b[0mresp\u001b[0m\u001b[0;34m.\u001b[0m\u001b[0mstatus_code\u001b[0m \u001b[0;34m!=\u001b[0m \u001b[0;36m200\u001b[0m\u001b[0;34m:\u001b[0m\u001b[0;34m\u001b[0m\u001b[0;34m\u001b[0m\u001b[0m\n\u001b[0;32m--> 405\u001b[0;31m                 \u001b[0;32mraise\u001b[0m \u001b[0mConnectionException\u001b[0m\u001b[0;34m(\u001b[0m\u001b[0;34m\"HTTP error code {}.\"\u001b[0m\u001b[0;34m.\u001b[0m\u001b[0mformat\u001b[0m\u001b[0;34m(\u001b[0m\u001b[0mresp\u001b[0m\u001b[0;34m.\u001b[0m\u001b[0mstatus_code\u001b[0m\u001b[0;34m)\u001b[0m\u001b[0;34m)\u001b[0m\u001b[0;34m\u001b[0m\u001b[0;34m\u001b[0m\u001b[0m\n\u001b[0m\u001b[1;32m    406\u001b[0m             \u001b[0mis_html_query\u001b[0m \u001b[0;34m=\u001b[0m \u001b[0;32mnot\u001b[0m \u001b[0mis_graphql_query\u001b[0m \u001b[0;32mand\u001b[0m \u001b[0;32mnot\u001b[0m \u001b[0;34m\"__a\"\u001b[0m \u001b[0;32min\u001b[0m \u001b[0mparams\u001b[0m \u001b[0;32mand\u001b[0m \u001b[0mhost\u001b[0m \u001b[0;34m==\u001b[0m \u001b[0;34m\"www.instagram.com\"\u001b[0m\u001b[0;34m\u001b[0m\u001b[0;34m\u001b[0m\u001b[0m\n",
            "\u001b[0;31mConnectionException\u001b[0m: HTTP error code 401.",
            "\nDuring handling of the above exception, another exception occurred:\n",
            "\u001b[0;31mConnectionException\u001b[0m                       Traceback (most recent call last)",
            "\u001b[0;32m/usr/local/lib/python3.10/dist-packages/instaloader/instaloadercontext.py\u001b[0m in \u001b[0;36mget_json\u001b[0;34m(self, path, params, host, session, _attempt, response_headers)\u001b[0m\n\u001b[1;32m    404\u001b[0m             \u001b[0;32mif\u001b[0m \u001b[0mresp\u001b[0m\u001b[0;34m.\u001b[0m\u001b[0mstatus_code\u001b[0m \u001b[0;34m!=\u001b[0m \u001b[0;36m200\u001b[0m\u001b[0;34m:\u001b[0m\u001b[0;34m\u001b[0m\u001b[0;34m\u001b[0m\u001b[0m\n\u001b[0;32m--> 405\u001b[0;31m                 \u001b[0;32mraise\u001b[0m \u001b[0mConnectionException\u001b[0m\u001b[0;34m(\u001b[0m\u001b[0;34m\"HTTP error code {}.\"\u001b[0m\u001b[0;34m.\u001b[0m\u001b[0mformat\u001b[0m\u001b[0;34m(\u001b[0m\u001b[0mresp\u001b[0m\u001b[0;34m.\u001b[0m\u001b[0mstatus_code\u001b[0m\u001b[0;34m)\u001b[0m\u001b[0;34m)\u001b[0m\u001b[0;34m\u001b[0m\u001b[0;34m\u001b[0m\u001b[0m\n\u001b[0m\u001b[1;32m    406\u001b[0m             \u001b[0mis_html_query\u001b[0m \u001b[0;34m=\u001b[0m \u001b[0;32mnot\u001b[0m \u001b[0mis_graphql_query\u001b[0m \u001b[0;32mand\u001b[0m \u001b[0;32mnot\u001b[0m \u001b[0;34m\"__a\"\u001b[0m \u001b[0;32min\u001b[0m \u001b[0mparams\u001b[0m \u001b[0;32mand\u001b[0m \u001b[0mhost\u001b[0m \u001b[0;34m==\u001b[0m \u001b[0;34m\"www.instagram.com\"\u001b[0m\u001b[0;34m\u001b[0m\u001b[0;34m\u001b[0m\u001b[0m\n",
            "\u001b[0;31mConnectionException\u001b[0m: HTTP error code 401.",
            "\nThe above exception was the direct cause of the following exception:\n",
            "\u001b[0;31mConnectionException\u001b[0m                       Traceback (most recent call last)",
            "\u001b[0;32m<ipython-input-2-f3d9cb0470e1>\u001b[0m in \u001b[0;36m<cell line: 4>\u001b[0;34m()\u001b[0m\n\u001b[1;32m      2\u001b[0m \u001b[0mprofile_name\u001b[0m\u001b[0;34m=\u001b[0m\u001b[0minput\u001b[0m\u001b[0;34m(\u001b[0m\u001b[0;34m\"Username : \"\u001b[0m\u001b[0;34m)\u001b[0m\u001b[0;34m\u001b[0m\u001b[0;34m\u001b[0m\u001b[0m\n\u001b[1;32m      3\u001b[0m \u001b[0mprint\u001b[0m\u001b[0;34m(\u001b[0m\u001b[0;34m\"Ungah Media ........\"\u001b[0m\u001b[0;34m)\u001b[0m\u001b[0;34m\u001b[0m\u001b[0;34m\u001b[0m\u001b[0m\n\u001b[0;32m----> 4\u001b[0;31m \u001b[0minstaloader\u001b[0m\u001b[0;34m.\u001b[0m\u001b[0mInstaloader\u001b[0m\u001b[0;34m(\u001b[0m\u001b[0;34m)\u001b[0m\u001b[0;34m.\u001b[0m\u001b[0mdownload_profile\u001b[0m\u001b[0;34m(\u001b[0m\u001b[0mprofile_name\u001b[0m\u001b[0;34m,\u001b[0m\u001b[0mprofile_pic_only\u001b[0m\u001b[0;34m=\u001b[0m\u001b[0;32mFalse\u001b[0m\u001b[0;34m)\u001b[0m\u001b[0;34m\u001b[0m\u001b[0;34m\u001b[0m\u001b[0m\n\u001b[0m\u001b[1;32m      5\u001b[0m \u001b[0mprint\u001b[0m\u001b[0;34m(\u001b[0m\u001b[0;34m\"Download Berhasil\"\u001b[0m\u001b[0;34m)\u001b[0m\u001b[0;34m\u001b[0m\u001b[0;34m\u001b[0m\u001b[0m\n",
            "\u001b[0;32m/usr/local/lib/python3.10/dist-packages/instaloader/instaloader.py\u001b[0m in \u001b[0;36mdownload_profile\u001b[0;34m(self, profile_name, profile_pic, profile_pic_only, fast_update, download_stories, download_stories_only, download_tagged, download_tagged_only, post_filter, storyitem_filter)\u001b[0m\n\u001b[1;32m   1571\u001b[0m         \u001b[0;31m# Iterate over pictures and download them\u001b[0m\u001b[0;34m\u001b[0m\u001b[0;34m\u001b[0m\u001b[0m\n\u001b[1;32m   1572\u001b[0m         \u001b[0mself\u001b[0m\u001b[0;34m.\u001b[0m\u001b[0mcontext\u001b[0m\u001b[0;34m.\u001b[0m\u001b[0mlog\u001b[0m\u001b[0;34m(\u001b[0m\u001b[0;34m\"Retrieving posts from profile {}.\"\u001b[0m\u001b[0;34m.\u001b[0m\u001b[0mformat\u001b[0m\u001b[0;34m(\u001b[0m\u001b[0mprofile_name\u001b[0m\u001b[0;34m)\u001b[0m\u001b[0;34m)\u001b[0m\u001b[0;34m\u001b[0m\u001b[0;34m\u001b[0m\u001b[0m\n\u001b[0;32m-> 1573\u001b[0;31m         self.posts_download_loop(profile.get_posts(), profile_name, fast_update, post_filter,\n\u001b[0m\u001b[1;32m   1574\u001b[0m                                  total_count=profile.mediacount, owner_profile=profile)\n\u001b[1;32m   1575\u001b[0m \u001b[0;34m\u001b[0m\u001b[0m\n",
            "\u001b[0;32m/usr/local/lib/python3.10/dist-packages/instaloader/instaloader.py\u001b[0m in \u001b[0;36mposts_download_loop\u001b[0;34m(self, posts, target, fast_update, post_filter, max_count, total_count, owner_profile, takewhile)\u001b[0m\n\u001b[1;32m   1031\u001b[0m                 \u001b[0menabled\u001b[0m\u001b[0;34m=\u001b[0m\u001b[0mself\u001b[0m\u001b[0;34m.\u001b[0m\u001b[0mresume_prefix\u001b[0m \u001b[0;32mis\u001b[0m \u001b[0;32mnot\u001b[0m \u001b[0;32mNone\u001b[0m\u001b[0;34m\u001b[0m\u001b[0;34m\u001b[0m\u001b[0m\n\u001b[1;32m   1032\u001b[0m         ) as (is_resuming, start_index):\n\u001b[0;32m-> 1033\u001b[0;31m             \u001b[0;32mfor\u001b[0m \u001b[0mnumber\u001b[0m\u001b[0;34m,\u001b[0m \u001b[0mpost\u001b[0m \u001b[0;32min\u001b[0m \u001b[0menumerate\u001b[0m\u001b[0;34m(\u001b[0m\u001b[0mposts\u001b[0m\u001b[0;34m,\u001b[0m \u001b[0mstart\u001b[0m\u001b[0;34m=\u001b[0m\u001b[0mstart_index\u001b[0m \u001b[0;34m+\u001b[0m \u001b[0;36m1\u001b[0m\u001b[0;34m)\u001b[0m\u001b[0;34m:\u001b[0m\u001b[0;34m\u001b[0m\u001b[0;34m\u001b[0m\u001b[0m\n\u001b[0m\u001b[1;32m   1034\u001b[0m                 \u001b[0mshould_stop\u001b[0m \u001b[0;34m=\u001b[0m \u001b[0;32mnot\u001b[0m \u001b[0mtakewhile\u001b[0m\u001b[0;34m(\u001b[0m\u001b[0mpost\u001b[0m\u001b[0;34m)\u001b[0m\u001b[0;34m\u001b[0m\u001b[0;34m\u001b[0m\u001b[0m\n\u001b[1;32m   1035\u001b[0m                 \u001b[0;32mif\u001b[0m \u001b[0mshould_stop\u001b[0m \u001b[0;32mand\u001b[0m \u001b[0mpost\u001b[0m\u001b[0;34m.\u001b[0m\u001b[0mis_pinned\u001b[0m\u001b[0;34m:\u001b[0m\u001b[0;34m\u001b[0m\u001b[0;34m\u001b[0m\u001b[0m\n",
            "\u001b[0;32m/usr/local/lib/python3.10/dist-packages/instaloader/nodeiterator.py\u001b[0m in \u001b[0;36m__next__\u001b[0;34m(self)\u001b[0m\n\u001b[1;32m    139\u001b[0m             \u001b[0;32mreturn\u001b[0m \u001b[0mitem\u001b[0m\u001b[0;34m\u001b[0m\u001b[0;34m\u001b[0m\u001b[0m\n\u001b[1;32m    140\u001b[0m         \u001b[0;32mif\u001b[0m \u001b[0mself\u001b[0m\u001b[0;34m.\u001b[0m\u001b[0m_data\u001b[0m\u001b[0;34m.\u001b[0m\u001b[0mget\u001b[0m\u001b[0;34m(\u001b[0m\u001b[0;34m'page_info'\u001b[0m\u001b[0;34m,\u001b[0m \u001b[0;34m{\u001b[0m\u001b[0;34m}\u001b[0m\u001b[0;34m)\u001b[0m\u001b[0;34m.\u001b[0m\u001b[0mget\u001b[0m\u001b[0;34m(\u001b[0m\u001b[0;34m'has_next_page'\u001b[0m\u001b[0;34m)\u001b[0m\u001b[0;34m:\u001b[0m\u001b[0;34m\u001b[0m\u001b[0;34m\u001b[0m\u001b[0m\n\u001b[0;32m--> 141\u001b[0;31m             \u001b[0mquery_response\u001b[0m \u001b[0;34m=\u001b[0m \u001b[0mself\u001b[0m\u001b[0;34m.\u001b[0m\u001b[0m_query\u001b[0m\u001b[0;34m(\u001b[0m\u001b[0mself\u001b[0m\u001b[0;34m.\u001b[0m\u001b[0m_data\u001b[0m\u001b[0;34m[\u001b[0m\u001b[0;34m'page_info'\u001b[0m\u001b[0;34m]\u001b[0m\u001b[0;34m[\u001b[0m\u001b[0;34m'end_cursor'\u001b[0m\u001b[0;34m]\u001b[0m\u001b[0;34m)\u001b[0m\u001b[0;34m\u001b[0m\u001b[0;34m\u001b[0m\u001b[0m\n\u001b[0m\u001b[1;32m    142\u001b[0m             \u001b[0;32mif\u001b[0m \u001b[0mself\u001b[0m\u001b[0;34m.\u001b[0m\u001b[0m_data\u001b[0m\u001b[0;34m[\u001b[0m\u001b[0;34m'edges'\u001b[0m\u001b[0;34m]\u001b[0m \u001b[0;34m!=\u001b[0m \u001b[0mquery_response\u001b[0m\u001b[0;34m[\u001b[0m\u001b[0;34m'edges'\u001b[0m\u001b[0;34m]\u001b[0m \u001b[0;32mand\u001b[0m \u001b[0mlen\u001b[0m\u001b[0;34m(\u001b[0m\u001b[0mquery_response\u001b[0m\u001b[0;34m[\u001b[0m\u001b[0;34m'edges'\u001b[0m\u001b[0;34m]\u001b[0m\u001b[0;34m)\u001b[0m \u001b[0;34m>\u001b[0m \u001b[0;36m0\u001b[0m\u001b[0;34m:\u001b[0m\u001b[0;34m\u001b[0m\u001b[0;34m\u001b[0m\u001b[0m\n\u001b[1;32m    143\u001b[0m                 \u001b[0mpage_index\u001b[0m\u001b[0;34m,\u001b[0m \u001b[0mdata\u001b[0m \u001b[0;34m=\u001b[0m \u001b[0mself\u001b[0m\u001b[0;34m.\u001b[0m\u001b[0m_page_index\u001b[0m\u001b[0;34m,\u001b[0m \u001b[0mself\u001b[0m\u001b[0;34m.\u001b[0m\u001b[0m_data\u001b[0m\u001b[0;34m\u001b[0m\u001b[0;34m\u001b[0m\u001b[0m\n",
            "\u001b[0;32m/usr/local/lib/python3.10/dist-packages/instaloader/nodeiterator.py\u001b[0m in \u001b[0;36m_query\u001b[0;34m(self, after)\u001b[0m\n\u001b[1;32m    101\u001b[0m         \u001b[0;32mtry\u001b[0m\u001b[0;34m:\u001b[0m\u001b[0;34m\u001b[0m\u001b[0;34m\u001b[0m\u001b[0m\n\u001b[1;32m    102\u001b[0m             data = self._edge_extractor(\n\u001b[0;32m--> 103\u001b[0;31m                 self._context.graphql_query(\n\u001b[0m\u001b[1;32m    104\u001b[0m                     \u001b[0mself\u001b[0m\u001b[0;34m.\u001b[0m\u001b[0m_query_hash\u001b[0m\u001b[0;34m,\u001b[0m \u001b[0;34m{\u001b[0m\u001b[0;34m**\u001b[0m\u001b[0mself\u001b[0m\u001b[0;34m.\u001b[0m\u001b[0m_query_variables\u001b[0m\u001b[0;34m,\u001b[0m \u001b[0;34m**\u001b[0m\u001b[0mpagination_variables\u001b[0m\u001b[0;34m}\u001b[0m\u001b[0;34m,\u001b[0m \u001b[0mself\u001b[0m\u001b[0;34m.\u001b[0m\u001b[0m_query_referer\u001b[0m\u001b[0;34m\u001b[0m\u001b[0;34m\u001b[0m\u001b[0m\n\u001b[1;32m    105\u001b[0m                 )\n",
            "\u001b[0;32m/usr/local/lib/python3.10/dist-packages/instaloader/instaloadercontext.py\u001b[0m in \u001b[0;36mgraphql_query\u001b[0;34m(self, query_hash, variables, referer, rhx_gis)\u001b[0m\n\u001b[1;32m    474\u001b[0m                 \u001b[0mtmpsession\u001b[0m\u001b[0;34m.\u001b[0m\u001b[0mheaders\u001b[0m\u001b[0;34m[\u001b[0m\u001b[0;34m'x-instagram-gis'\u001b[0m\u001b[0;34m]\u001b[0m \u001b[0;34m=\u001b[0m \u001b[0mx_instagram_gis\u001b[0m\u001b[0;34m\u001b[0m\u001b[0;34m\u001b[0m\u001b[0m\n\u001b[1;32m    475\u001b[0m \u001b[0;34m\u001b[0m\u001b[0m\n\u001b[0;32m--> 476\u001b[0;31m             resp_json = self.get_json('graphql/query',\n\u001b[0m\u001b[1;32m    477\u001b[0m                                       params={'query_hash': query_hash,\n\u001b[1;32m    478\u001b[0m                                               'variables': variables_json},\n",
            "\u001b[0;32m/usr/local/lib/python3.10/dist-packages/instaloader/instaloadercontext.py\u001b[0m in \u001b[0;36mget_json\u001b[0;34m(self, path, params, host, session, _attempt, response_headers)\u001b[0m\n\u001b[1;32m    439\u001b[0m                     \u001b[0;32mif\u001b[0m \u001b[0mis_other_query\u001b[0m\u001b[0;34m:\u001b[0m\u001b[0;34m\u001b[0m\u001b[0;34m\u001b[0m\u001b[0m\n\u001b[1;32m    440\u001b[0m                         \u001b[0mself\u001b[0m\u001b[0;34m.\u001b[0m\u001b[0m_rate_controller\u001b[0m\u001b[0;34m.\u001b[0m\u001b[0mhandle_429\u001b[0m\u001b[0;34m(\u001b[0m\u001b[0;34m'other'\u001b[0m\u001b[0;34m)\u001b[0m\u001b[0;34m\u001b[0m\u001b[0;34m\u001b[0m\u001b[0m\n\u001b[0;32m--> 441\u001b[0;31m                 return self.get_json(path=path, params=params, host=host, session=sess, _attempt=_attempt + 1,\n\u001b[0m\u001b[1;32m    442\u001b[0m                                      response_headers=response_headers)\n\u001b[1;32m    443\u001b[0m             \u001b[0;32mexcept\u001b[0m \u001b[0mKeyboardInterrupt\u001b[0m\u001b[0;34m:\u001b[0m\u001b[0;34m\u001b[0m\u001b[0;34m\u001b[0m\u001b[0m\n",
            "\u001b[0;32m/usr/local/lib/python3.10/dist-packages/instaloader/instaloadercontext.py\u001b[0m in \u001b[0;36mget_json\u001b[0;34m(self, path, params, host, session, _attempt, response_headers)\u001b[0m\n\u001b[1;32m    439\u001b[0m                     \u001b[0;32mif\u001b[0m \u001b[0mis_other_query\u001b[0m\u001b[0;34m:\u001b[0m\u001b[0;34m\u001b[0m\u001b[0;34m\u001b[0m\u001b[0m\n\u001b[1;32m    440\u001b[0m                         \u001b[0mself\u001b[0m\u001b[0;34m.\u001b[0m\u001b[0m_rate_controller\u001b[0m\u001b[0;34m.\u001b[0m\u001b[0mhandle_429\u001b[0m\u001b[0;34m(\u001b[0m\u001b[0;34m'other'\u001b[0m\u001b[0;34m)\u001b[0m\u001b[0;34m\u001b[0m\u001b[0;34m\u001b[0m\u001b[0m\n\u001b[0;32m--> 441\u001b[0;31m                 return self.get_json(path=path, params=params, host=host, session=sess, _attempt=_attempt + 1,\n\u001b[0m\u001b[1;32m    442\u001b[0m                                      response_headers=response_headers)\n\u001b[1;32m    443\u001b[0m             \u001b[0;32mexcept\u001b[0m \u001b[0mKeyboardInterrupt\u001b[0m\u001b[0;34m:\u001b[0m\u001b[0;34m\u001b[0m\u001b[0;34m\u001b[0m\u001b[0m\n",
            "\u001b[0;32m/usr/local/lib/python3.10/dist-packages/instaloader/instaloadercontext.py\u001b[0m in \u001b[0;36mget_json\u001b[0;34m(self, path, params, host, session, _attempt, response_headers)\u001b[0m\n\u001b[1;32m    429\u001b[0m                     \u001b[0;32mraise\u001b[0m \u001b[0mQueryReturnedNotFoundException\u001b[0m\u001b[0;34m(\u001b[0m\u001b[0merror_string\u001b[0m\u001b[0;34m)\u001b[0m \u001b[0;32mfrom\u001b[0m \u001b[0merr\u001b[0m\u001b[0;34m\u001b[0m\u001b[0;34m\u001b[0m\u001b[0m\n\u001b[1;32m    430\u001b[0m                 \u001b[0;32melse\u001b[0m\u001b[0;34m:\u001b[0m\u001b[0;34m\u001b[0m\u001b[0;34m\u001b[0m\u001b[0m\n\u001b[0;32m--> 431\u001b[0;31m                     \u001b[0;32mraise\u001b[0m \u001b[0mConnectionException\u001b[0m\u001b[0;34m(\u001b[0m\u001b[0merror_string\u001b[0m\u001b[0;34m)\u001b[0m \u001b[0;32mfrom\u001b[0m \u001b[0merr\u001b[0m\u001b[0;34m\u001b[0m\u001b[0;34m\u001b[0m\u001b[0m\n\u001b[0m\u001b[1;32m    432\u001b[0m             \u001b[0mself\u001b[0m\u001b[0;34m.\u001b[0m\u001b[0merror\u001b[0m\u001b[0;34m(\u001b[0m\u001b[0merror_string\u001b[0m \u001b[0;34m+\u001b[0m \u001b[0;34m\" [retrying; skip with ^C]\"\u001b[0m\u001b[0;34m,\u001b[0m \u001b[0mrepeat_at_end\u001b[0m\u001b[0;34m=\u001b[0m\u001b[0;32mFalse\u001b[0m\u001b[0;34m)\u001b[0m\u001b[0;34m\u001b[0m\u001b[0;34m\u001b[0m\u001b[0m\n\u001b[1;32m    433\u001b[0m             \u001b[0;32mtry\u001b[0m\u001b[0;34m:\u001b[0m\u001b[0;34m\u001b[0m\u001b[0;34m\u001b[0m\u001b[0m\n",
            "\u001b[0;31mConnectionException\u001b[0m: JSON Query to graphql/query: HTTP error code 401."
          ]
        }
      ]
    }
  ]
}